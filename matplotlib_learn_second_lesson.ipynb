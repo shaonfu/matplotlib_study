{
 "cells": [
  {
   "cell_type": "markdown",
   "metadata": {},
   "source": [
    "# 第二回:艺术画笔见乾坤\n",
    "## 一、概述\n",
    "### 1.matplotlib的三层api\n",
    "matplotlib的原理或者说基础逻辑是，用Artist对象在画布(canvas)上绘制(Render)图形。\n",
    "就和人作画的步骤类似：\n",
    "1.准备一块画布或画纸\n",
    "2.准备好颜料、画笔等制图工具\n",
    "3.作画\n",
    "所以matplotlib有三个层次的API:\n",
    "matplotlib.backend_bases.FigureCanvas 代表了绘图区，所有的图像都是在绘图区完成的。\n",
    "matplotlib.backend_bases.Renderer 代表了渲染器，可以近似理解为画笔，控制如何在 FigureCanvas 上画图。\n",
    "matplotlib.artist.Artist 代表了具体的图表组件，即调用了Renderer的接口在Canvas上作图。\n",
    "前两者处理程序和计算机的底层交互的事项，第三项Artist就是具体的调用接口来做出我们想要的图，比如图形、文本、线条的设定。所以通常来说，我们95%的时间，都是用来和matplotlib.artist.Artist类打交道的。\n",
    "\n",
    "### 2.Artist的分类\n",
    "Artist有两种类型:primitives和containers.\n",
    "primitive是基本要素，它包含一些我们要在绘图区作图用到的标准图形对象，如曲线Line2D，文字text，矩形Rectangle，图像image等。\n",
    "container是容器，即用来装基本要素的地方，包括图形figure、坐标系Axes和坐标轴Axis。他们之间的关系如下图所示：\n",
    "![avatar](https://img-blog.csdnimg.cn/20201122230916134.jpeg?x-oss-process=image/watermark,type_ZmFuZ3poZW5naGVpdGk,shadow_10,text_aHR0cHM6Ly9ibG9nLmNzZG4ubmV0L3dlaXhpbl8zODYwNDk2MQ==,size_16,color_FFFFFF,t_70#pic_center)"
   ]
  },
  {
   "cell_type": "markdown",
   "metadata": {},
   "source": [
    "### 3.matplotlib标准用法\n",
    "matplotlib的标准使用流程为:\n",
    "1.创建一个Figure实例\n",
    "2.使用Figure实例创建一个或者多个Axes或Subplot实例\n",
    "3.使用Axes实例辅助方法来创建primitive\n",
    "值得一提的是，Axes是一种容器，它可能是matplotlib API中最重要的类，并且我们大多数时间都花在和它打交道上。更具体的信息会在第三节容器小节说明。"
   ]
  },
  {
   "cell_type": "code",
   "execution_count": null,
   "metadata": {},
   "outputs": [],
   "source": [
    "#一个流程示例及说明\n",
    "import matplotlib.pyplot as plt\n",
    "import numpy as np\n",
    "\n",
    "#1.创建一个Figure实例\n",
    "fig = plt.figure()"
   ]
  }
 ],
 "metadata": {
  "interpreter": {
   "hash": "f0265e043b1e0faa2a822821c946b66a775552814b2425ec425bac437e400065"
  },
  "kernelspec": {
   "display_name": "Python 3.9.7 64-bit ('data_analysis': conda)",
   "language": "python",
   "name": "python3"
  },
  "language_info": {
   "name": "python",
   "version": "3.9.7"
  },
  "orig_nbformat": 4
 },
 "nbformat": 4,
 "nbformat_minor": 2
}
